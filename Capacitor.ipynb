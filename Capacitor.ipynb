{
 "cells": [
  {
   "cell_type": "markdown",
   "metadata": {
    "slideshow": {
     "slide_type": "slide"
    }
   },
   "source": [
    "## Talk outline"
   ]
  },
  {
   "cell_type": "code",
   "execution_count": 36,
   "metadata": {},
   "outputs": [
    {
     "data": {
      "text/html": [
       "<style>/*.container { width:100% !important; }*/\n",
       "\n",
       "div.prompt {display:none}\n",
       "\n",
       "div.output_subarea {max-width:100%}\n",
       "\n",
       "/* These below are from the altair_talk css */\n",
       "\n",
       "/* ---------- markdown cells\n",
       " */\n",
       "body.rise-enabled div.inner_cell>div.text_cell_render.rendered_html {\n",
       "    font-size: 100%;\n",
       "}\n",
       "\n",
       "\n",
       "/* ---------- code blocks inside markdown\n",
       "   i.e. within ``` lines, or 4-space indented\n",
       " */\n",
       "div.inner_cell>div.text_cell_render.rendered_html>pre {\n",
       "    margin: 0px;\n",
       "}\n",
       "\n",
       "/* ----------- code to remove space above markdown headers\n",
       " */\n",
       "div.inner_cell>div.text_cell_render.rendered_html h1 {\n",
       "    margin-top: 0px;\n",
       "}\n",
       "div.inner_cell>div.text_cell_render.rendered_html h2 {\n",
       "    margin-top: 0px;\n",
       "}\n",
       "div.inner_cell>div.text_cell_render.rendered_html h3 {\n",
       "    margin-top: 0px;\n",
       "}\n",
       "div.inner_cell>div.text_cell_render.rendered_html h4 {\n",
       "    margin-top: 0px;\n",
       "}\n",
       "\n",
       "div.inner_cell>div.text_cell_render.rendered_html>pre>code {\n",
       "    font-size: 70%;\n",
       "}\n",
       "\n",
       "/* ---------- tables (from SO)\n",
       " */\n",
       ".rendered_html table, .rendered_html th, .rendered_html tr, .rendered_html td {\n",
       "     font-size: 120%;\n",
       "}\n",
       "\n",
       "/* ---------- Left part of code cells\n",
       "    from this SO answer: https://stackoverflow.com/a/47263575;\n",
       " /* Narrow the prompts */\n",
       "div.prompt_container {\n",
       "    min-width: 5ex;\n",
       "}\n",
       "/* Hide prompts altogether for non-conda cells */\n",
       ".cell:not(.code_cell) .prompt {\n",
       "    display: none;\n",
       "}\n",
       "/* ---------- Width of cells\n",
       " */\n",
       ".container {\n",
       "    width:95% !important;\n",
       "}\n",
       "\n",
       "</style>"
      ],
      "text/plain": [
       "<IPython.core.display.HTML object>"
      ]
     },
     "execution_count": 36,
     "metadata": {},
     "output_type": "execute_result"
    }
   ],
   "source": [
    "from helpers import *\n",
    "\n",
    "# Additional styling ; should be moved into helpers\n",
    "from IPython.core.display import display, HTML\n",
    "HTML('<style>{}</style>'.format(open('styler.css').read()))\n",
    "\n",
    "# Jupyterthemes command\n",
    "#!jt -t grade3 -tfs 14 -dfs 14 -ofs 14 -T\n",
    "\n",
    "## Set themes to style plots that get created\n",
    "\n",
    "#from jupyterthemes import jtplot\n",
    "#jtplot.style(theme='grade3')"
   ]
  },
  {
   "cell_type": "markdown",
   "metadata": {
    "slideshow": {
     "slide_type": "slide"
    }
   },
   "source": [
    "## Logistics (before talk starts)"
   ]
  },
  {
   "cell_type": "markdown",
   "metadata": {
    "slideshow": {
     "slide_type": "subslide"
    }
   },
   "source": [
    "### Learning Context"
   ]
  },
  {
   "cell_type": "markdown",
   "metadata": {
    "slideshow": {
     "slide_type": "fragment"
    }
   },
   "source": [
    "<center>\n",
    "<img src=\"assets/image.jpg\" width=40%>\n",
    "</center>"
   ]
  },
  {
   "cell_type": "markdown",
   "metadata": {
    "slideshow": {
     "slide_type": "slide"
    }
   },
   "source": [
    "## Introduction"
   ]
  },
  {
   "cell_type": "markdown",
   "metadata": {
    "slideshow": {
     "slide_type": "subslide"
    }
   },
   "source": [
    "### Learning Objectives\n",
    "\n",
    "- Identify and summarize key features of the capacitor\n",
    "- Describe potential applications of the capacitor based on its properties\n",
    "- Explain how a stud-finder works"
   ]
  },
  {
   "cell_type": "markdown",
   "metadata": {
    "cell_style": "split",
    "slideshow": {
     "slide_type": "subslide"
    }
   },
   "source": [
    "### Reminder\n",
    "\n",
    "- Electric fields ($E$) are formed between positive and negative charges\n",
    "- $E$ has magnitude (units of $N/C$ or $V/m$) and a direction\n",
    "- $E$ field lines are drawn from positive to negative charges\n",
    "- We will talk about the flow of electrons (rather than conventional current)!"
   ]
  },
  {
   "cell_type": "markdown",
   "metadata": {
    "cell_style": "split",
    "slideshow": {
     "slide_type": "fragment"
    }
   },
   "source": [
    "<center>\n",
    "<img src=\"assets/fig7_2.jpeg\" width=50%>\n",
    "</center>\n",
    "\n",
    "<p style=\"text-align:right; font-size:30%;\"><a href=\"https://openstax.org/books/university-physics-volume-2/pages/8-1-capacitors-and-capacitance#91635\">Source: OpenStax Textbook</a></p>"
   ]
  },
  {
   "cell_type": "markdown",
   "metadata": {
    "slideshow": {
     "slide_type": "subslide"
    }
   },
   "source": [
    "### Punchline\n",
    "\n",
    "Today you will learn how a stud-finder works!"
   ]
  },
  {
   "cell_type": "code",
   "execution_count": 46,
   "metadata": {
    "scrolled": true,
    "slideshow": {
     "slide_type": "fragment"
    }
   },
   "outputs": [
    {
     "data": {
      "text/html": [
       "\n",
       "        <iframe\n",
       "            width=\"100%\"\n",
       "            height=\"600\"\n",
       "            src=\"https://www.youtube.com/embed/rzYkyBsYXA0?start=42\"\n",
       "            frameborder=\"0\"\n",
       "            allowfullscreen\n",
       "        ></iframe>\n",
       "        "
      ],
      "text/plain": [
       "<IPython.lib.display.IFrame at 0x125418850>"
      ]
     },
     "execution_count": 46,
     "metadata": {},
     "output_type": "execute_result"
    }
   ],
   "source": [
    "IFrame(stud_finder,width='100%',height=600)"
   ]
  },
  {
   "cell_type": "markdown",
   "metadata": {
    "slideshow": {
     "slide_type": "slide"
    }
   },
   "source": [
    "## What is a capacitor?"
   ]
  },
  {
   "cell_type": "markdown",
   "metadata": {
    "cell_style": "split",
    "slideshow": {
     "slide_type": "fragment"
    }
   },
   "source": [
    "- A capacitor is a device that - when charged, can hold and store a large amount of energy.\n",
    "\n",
    "- Two energy is stored within an electric field (between two conducting plates). \n",
    "\n",
    "- Capacitance is defined as the ratio of the charge $Q$ on a conductor to the potential difference $V$ between them:\n",
    "\n",
    "$$C \\equiv \\frac{Q}{V}$$\n",
    "\n",
    "- On the right, is the **parallel plate capacitor**."
   ]
  },
  {
   "cell_type": "markdown",
   "metadata": {
    "cell_style": "split",
    "slideshow": {
     "slide_type": "fragment"
    }
   },
   "source": [
    "<center>\n",
    "<img src=\"assets/fig8_2.jpeg\" width=30%>\n",
    "</center>\n",
    "\n",
    "<p style=\"text-align:right; font-size:30%;\"><a href=\"https://openstax.org/books/university-physics-volume-2/pages/8-1-capacitors-and-capacitance#91635\">Source: OpenStax Textbook</a></p>"
   ]
  },
  {
   "cell_type": "markdown",
   "metadata": {
    "cell_style": "split",
    "slideshow": {
     "slide_type": "subslide"
    }
   },
   "source": [
    "### What is a capacitor?\n",
    "\n",
    "- Capacitors come in many shapes and geometries.\n",
    "\n",
    "- The unit of capacitance is a \"Farad\", or F (in honour of Michael Faraday)\n",
    "\n",
    "$$ 1 F = \\frac{1C}{1V} $$\n",
    "\n",
    "- Typically an insulating material is placed between conducting sheets (dielectric) to make the capacitor more effective\n",
    "    - A little about this later today, more next class!\n",
    "\n"
   ]
  },
  {
   "cell_type": "markdown",
   "metadata": {
    "cell_style": "split"
   },
   "source": [
    "<center>\n",
    "<img src=\"assets/fig8_4.jpeg\" width=50%>\n",
    "</center>\n",
    "\n",
    "<center>\n",
    "<img src=\"assets/fig8_2b.jpeg\" width=70%>\n",
    "</center>\n",
    "\n",
    "<p style=\"text-align:right; font-size:30%;\"><a href=\"https://openstax.org/books/university-physics-volume-2/pages/8-1-capacitors-and-capacitance#91635\">Source: OpenStax Textbook and Windell Oskay</a></p>"
   ]
  },
  {
   "cell_type": "markdown",
   "metadata": {
    "cell_style": "split",
    "slideshow": {
     "slide_type": "subslide"
    }
   },
   "source": [
    "### Exploring Capacitors\n",
    "\n",
    "Remember: $$C \\equiv \\frac{Q}{V}$$\n",
    "\n",
    "We will explore the dependence of three parameters on the capacitance:\n",
    "\n",
    "1. Voltage $V$\n",
    "2. Plate separation $d$\n",
    "3. Plate area $A$\n",
    "\n",
    "We will do the first one together, and we'll split the class in half to do the other two.\n",
    "\n",
    "But first, let's take a guess at the relationships between these parameters."
   ]
  },
  {
   "cell_type": "markdown",
   "metadata": {
    "cell_style": "split",
    "slideshow": {
     "slide_type": "fragment"
    }
   },
   "source": [
    "<center>\n",
    "<img src=\"assets/fig8_5_orig.jpeg\" width=50%>\n",
    "</center>\n",
    "\n",
    "<p style=\"text-align:right; font-size:30%;\"><a href=\"https://openstax.org/books/university-physics-volume-2/pages/8-1-capacitors-and-capacitance#91635\">Source: OpenStax Textbook</a></p>"
   ]
  },
  {
   "cell_type": "markdown",
   "metadata": {
    "cell_style": "split",
    "slideshow": {
     "slide_type": "fragment"
    }
   },
   "source": [
    "<center>\n",
    "<img src=\"assets/sim.png\" width=100%>\n",
    "</center>"
   ]
  },
  {
   "cell_type": "code",
   "execution_count": 47,
   "metadata": {
    "cell_style": "split",
    "slideshow": {
     "slide_type": "subslide"
    }
   },
   "outputs": [
    {
     "data": {
      "text/html": [
       "\n",
       "        <iframe\n",
       "            width=\"800\"\n",
       "            height=\"700\"\n",
       "            src=\"https://app.sli.do/event/gkmj65xm/live/polls\"\n",
       "            frameborder=\"0\"\n",
       "            allowfullscreen\n",
       "        ></iframe>\n",
       "        "
      ],
      "text/plain": [
       "<IPython.lib.display.IFrame at 0x125418fd0>"
      ]
     },
     "execution_count": 47,
     "metadata": {},
     "output_type": "execute_result"
    }
   ],
   "source": [
    "IFrame('https://app.sli.do/event/gkmj65xm/live/polls', width=800,height=700)"
   ]
  },
  {
   "cell_type": "markdown",
   "metadata": {
    "cell_style": "split",
    "slideshow": {
     "slide_type": "subslide"
    }
   },
   "source": [
    "### Activity 1: Does the battery affect the Capacitance?\n",
    "\n",
    "Instructions:\n",
    "\n",
    "- We will explore the relationship between the circuit voltage and the capacitance\n",
    "- Set up the simulation with the following settings:\n",
    "    - Separation: 6.0 mm\n",
    "    - Plate Area: 200 mm$^2$\n",
    "    - Voltmeter with black on negative and red on positive plate\n",
    "    - Top-plate charge button checked\n",
    "    - Switches in the on position\n",
    "- Step through the voltages from 0.3 to 1.0 in units of 0.1 V and type in the chat the value for the `Top Plate Charge` when Firas asks for it\n",
    "- Observe the relationship between Voltage and Charge in the plot below"
   ]
  },
  {
   "cell_type": "code",
   "execution_count": 51,
   "metadata": {
    "cell_style": "split",
    "slideshow": {
     "slide_type": "fragment"
    }
   },
   "outputs": [
    {
     "data": {
      "image/png": "[encoded data removed]",
      "text/plain": [
       "<Figure size 432x288 with 1 Axes>"
      ]
     },
     "metadata": {
      "needs_background": "light"
     },
     "output_type": "display_data"
    }
   ],
   "source": [
    "voltage =  [0, 0.30, 0.40, 0.50, 0.60, 0.70, 0.80, 0.90, 1.0] # units: V\n",
    "charge =   [0, 0.09, 0.12, 0.15, 0.18, 0.21, 0.24, 0.27, 0.30] # units: pC\n",
    "\n",
    "vc = plt.plot(voltage,charge,'o--')"
   ]
  },
  {
   "cell_type": "markdown",
   "metadata": {
    "slideshow": {
     "slide_type": "subslide"
    }
   },
   "source": [
    "### Activity 2A: Effect of plate separation on capacitance"
   ]
  },
  {
   "cell_type": "code",
   "execution_count": 52,
   "metadata": {
    "slideshow": {
     "slide_type": "fragment"
    }
   },
   "outputs": [],
   "source": [
    "capacitance = [ 6.0, 5.6, 5.0, 4.0, 3.0, 2.0] # units: pF\n",
    "separation =  [ 0.3, 0.32, 0.35, 0.44, 0.59, 0.89 ] # units: mm"
   ]
  },
  {
   "cell_type": "code",
   "execution_count": 14,
   "metadata": {
    "cell_style": "split",
    "slideshow": {
     "slide_type": "fragment"
    }
   },
   "outputs": [
    {
     "data": {
      "text/html": [
       "\n",
       "        <iframe\n",
       "            width=\"100%\"\n",
       "            height=\"600\"\n",
       "            src=\"https://phet.colorado.edu/sims/html/capacitor-lab-basics/latest/capacitor-lab-basics_en.html\"\n",
       "            frameborder=\"0\"\n",
       "            allowfullscreen\n",
       "        ></iframe>\n",
       "        "
      ],
      "text/plain": [
       "<IPython.lib.display.IFrame at 0x1230cec90>"
      ]
     },
     "execution_count": 14,
     "metadata": {},
     "output_type": "execute_result"
    }
   ],
   "source": [
    "IFrame(capacitor_phet, width='100%',height=600)"
   ]
  },
  {
   "cell_type": "code",
   "execution_count": 15,
   "metadata": {
    "cell_style": "split",
    "scrolled": true,
    "slideshow": {
     "slide_type": "fragment"
    }
   },
   "outputs": [
    {
     "data": {
      "text/plain": [
       "[<matplotlib.lines.Line2D at 0x123117510>]"
      ]
     },
     "execution_count": 15,
     "metadata": {},
     "output_type": "execute_result"
    },
    {
     "data": {
      "image/png": "[encoded data removed]",
      "text/plain": [
       "<Figure size 432x288 with 1 Axes>"
      ]
     },
     "metadata": {
      "needs_background": "light"
     },
     "output_type": "display_data"
    }
   ],
   "source": [
    "plt.plot(capacitance,separation,'o--')"
   ]
  },
  {
   "cell_type": "markdown",
   "metadata": {
    "slideshow": {
     "slide_type": "subslide"
    }
   },
   "source": [
    "### Activity 2B: Effect of plate area on capacitance"
   ]
  },
  {
   "cell_type": "code",
   "execution_count": 53,
   "metadata": {
    "cell_style": "split",
    "slideshow": {
     "slide_type": "fragment"
    }
   },
   "outputs": [],
   "source": [
    "capacitance = [ 6.0, 5.6, 5.0, 4.0, 3.0, 2.0] # units: pF\n",
    "area       =  [ 0.3, 0.32, 0.35, 0.44, 0.59, 0.89 ] # units: mm^2"
   ]
  },
  {
   "cell_type": "code",
   "execution_count": 54,
   "metadata": {
    "cell_style": "split",
    "slideshow": {
     "slide_type": "fragment"
    }
   },
   "outputs": [
    {
     "data": {
      "text/plain": [
       "[<matplotlib.lines.Line2D at 0x1255f9490>]"
      ]
     },
     "execution_count": 54,
     "metadata": {},
     "output_type": "execute_result"
    },
    {
     "data": {
      "image/png": "[encoded data removed]",
      "text/plain": [
       "<Figure size 432x288 with 1 Axes>"
      ]
     },
     "metadata": {
      "needs_background": "light"
     },
     "output_type": "display_data"
    }
   ],
   "source": [
    "plt.plot(capacitance,area,'o--')"
   ]
  },
  {
   "cell_type": "markdown",
   "metadata": {
    "cell_style": "split",
    "slideshow": {
     "slide_type": "subslide"
    }
   },
   "source": [
    "### Recap: activity\n",
    "\n",
    "1. C and Voltage $V$: \n",
    "2. C and Plate separation $d$: \n",
    "3. C and Plate area $A$: "
   ]
  },
  {
   "cell_type": "markdown",
   "metadata": {
    "cell_style": "split",
    "slideshow": {
     "slide_type": "fragment"
    }
   },
   "source": [
    "### Deriving the parallel plate capacitor formula using Gauss' Law"
   ]
  },
  {
   "cell_type": "code",
   "execution_count": 61,
   "metadata": {
    "cell_style": "split"
   },
   "outputs": [
    {
     "data": {
      "text/html": [
       "\n",
       "        <iframe\n",
       "            width=\"700\"\n",
       "            height=\"400\"\n",
       "            src=\"https://www.youtube-nocookie.com/embed/gTfEFwVsgKA\"\n",
       "            frameborder=\"0\"\n",
       "            allowfullscreen\n",
       "        ></iframe>\n",
       "        "
      ],
      "text/plain": [
       "<IPython.lib.display.IFrame at 0x125631610>"
      ]
     },
     "execution_count": 61,
     "metadata": {},
     "output_type": "execute_result"
    }
   ],
   "source": [
    "IFrame('https://www.youtube-nocookie.com/embed/gTfEFwVsgKA', width=700,height=400)"
   ]
  },
  {
   "cell_type": "markdown",
   "metadata": {
    "slideshow": {
     "slide_type": "slide"
    }
   },
   "source": [
    "### Between the plates"
   ]
  },
  {
   "cell_type": "markdown",
   "metadata": {
    "cell_style": "split",
    "slideshow": {
     "slide_type": "fragment"
    }
   },
   "source": [
    "This is a molecular model of an insulating material that contains polar (one side positive, one side negative) molecules:\n",
    "\n",
    "<img src=\"assets/fig8_20_a.jpeg\" width=35%>\n",
    "\n",
    "Notice that the molecules are currentlyrandomly assorted and distributed.\n"
   ]
  },
  {
   "cell_type": "markdown",
   "metadata": {
    "cell_style": "split",
    "slideshow": {
     "slide_type": "fragment"
    }
   },
   "source": [
    "If an electric field is applied across an insulator (for e.g., when placing this material between the plates of a capacitor), individual molecules become aligned with the electric field.\n",
    "\n",
    "\n",
    "<img src=\"assets/fig8_20_b.jpeg\" width=40%>"
   ]
  },
  {
   "cell_type": "markdown",
   "metadata": {},
   "source": [
    "Thus, the main electric field $E_0$ is \"reduced\" by the electric field in the opposite direction $E_i$ induced by the dielectric material.\n",
    "\n",
    "<img src=\"assets/fig8_20_c.jpeg\" width=20%>\n",
    "\n",
    "Reducing of the electric field results in a DECREASE in voltage ($V = E\\cdot d$), and consequently, an INCREASE in capacitance ($C=Q/V$) since the charge Q on the plates is constant.\n"
   ]
  },
  {
   "cell_type": "markdown",
   "metadata": {
    "slideshow": {
     "slide_type": "slide"
    }
   },
   "source": [
    "## Applications of a Capacitor"
   ]
  },
  {
   "cell_type": "markdown",
   "metadata": {
    "cell_style": "split",
    "slideshow": {
     "slide_type": "fragment"
    }
   },
   "source": [
    "Now you should have all the physics and intuition you need to work out how a stud finder works (hint: it uses capacitance)!\n",
    "\n",
    "There is just one more key piece of insight, but it's more \"geometry\"..."
   ]
  },
  {
   "cell_type": "markdown",
   "metadata": {
    "cell_style": "split"
   },
   "source": [
    "<center>\n",
    "<img src=\"assets/studfinder.png\" width=20%>\n",
    "</center>"
   ]
  },
  {
   "cell_type": "markdown",
   "metadata": {
    "slideshow": {
     "slide_type": "slide"
    }
   },
   "source": [
    "## Review"
   ]
  },
  {
   "cell_type": "markdown",
   "metadata": {},
   "source": [
    "### Recap Learning Objectives\n",
    "\n",
    "- Identify and summarize key features of the capacitor\n",
    "    - $C$ is independent of supplied voltage $V$\n",
    "    - $C$ is inversely proportional to plate separation $d$\n",
    "    - $C$ is proportional to plate area $A$\n",
    "- Describe potential applications of the capacitor based on its properties\n",
    "    - Stud-finders, defribrillators, computers and all electronics\n",
    "- Explain how a stud-finder works\n",
    "    - Capacitance and Dielectrics!"
   ]
  },
  {
   "cell_type": "markdown",
   "metadata": {
    "slideshow": {
     "slide_type": "slide"
    }
   },
   "source": [
    "## Next class\n",
    "\n",
    "- Dielectric constant $\\kappa$ of different materials\n",
    "- Adding capacitors in series and parallel\n",
    "- Quantifying the energy stored in a capacitor\n"
   ]
  },
  {
   "cell_type": "markdown",
   "metadata": {
    "slideshow": {
     "slide_type": "slide"
    }
   },
   "source": [
    "## Post-lecture Conceptual Questions"
   ]
  },
  {
   "cell_type": "code",
   "execution_count": 11,
   "metadata": {
    "slideshow": {
     "slide_type": "fragment"
    }
   },
   "outputs": [
    {
     "data": {
      "application/vnd.jupyter.widget-view+json": {
       "model_id": "1f91aef4b81745da8755bd5144ee756c",
       "version_major": 2,
       "version_minor": 0
      },
      "text/plain": [
       "VBox(children=(Output(outputs=({'output_type': 'stream', 'text': 'CQ 1 - Does the capacitance of a device depe…"
      ]
     },
     "metadata": {},
     "output_type": "display_data"
    },
    {
     "data": {
      "application/vnd.jupyter.widget-view+json": {
       "model_id": "602cfe85c17b4b43967569025570f636",
       "version_major": 2,
       "version_minor": 0
      },
      "text/plain": [
       "VBox(children=(Output(outputs=({'output_type': 'stream', 'text': 'CQ 2 - Would you place the plates of a paral…"
      ]
     },
     "metadata": {},
     "output_type": "display_data"
    },
    {
     "data": {
      "application/vnd.jupyter.widget-view+json": {
       "model_id": "ed6b549964484603af44c285de781326",
       "version_major": 2,
       "version_minor": 0
      },
      "text/plain": [
       "VBox(children=(Output(outputs=({'output_type': 'stream', 'text': 'CQ 3 - The value of the capacitance is zero …"
      ]
     },
     "metadata": {},
     "output_type": "display_data"
    },
    {
     "data": {
      "application/vnd.jupyter.widget-view+json": {
       "model_id": "633e7983a2fe4e3d92bf5ce4cdade374",
       "version_major": 2,
       "version_minor": 0
      },
      "text/plain": [
       "VBox(children=(Output(outputs=({'output_type': 'stream', 'text': 'CQ 4 - Why does adding a dielectric increase…"
      ]
     },
     "metadata": {},
     "output_type": "display_data"
    },
    {
     "data": {
      "application/vnd.jupyter.widget-view+json": {
       "model_id": "3350152ec07c4b918488b318c5ed6aa4",
       "version_major": 2,
       "version_minor": 0
      },
      "text/plain": [
       "VBox(children=(Output(outputs=({'output_type': 'stream', 'text': 'CQ 5 - What would happen if a conducting sla…"
      ]
     },
     "metadata": {},
     "output_type": "display_data"
    }
   ],
   "source": [
    "display(Q1)\n",
    "display(Q2)\n",
    "display(Q3)\n",
    "display(Q4)\n",
    "display(Q5)"
   ]
  },
  {
   "cell_type": "code",
   "execution_count": 12,
   "metadata": {
    "slideshow": {
     "slide_type": "skip"
    }
   },
   "outputs": [],
   "source": [
    "# plt.plot(data[::2],data[1::2],'o--')\n",
    "# plt.xlabel('Separation (mm)',fontsize=26)\n",
    "# plt.ylabel('Capacitance (pF)',fontsize=26)\n",
    "# a = plt.title('Capacitance vs. Separation',fontsize=26)"
   ]
  },
  {
   "cell_type": "code",
   "execution_count": null,
   "metadata": {},
   "outputs": [],
   "source": []
  },
  {
   "cell_type": "code",
   "execution_count": null,
   "metadata": {},
   "outputs": [],
   "source": []
  },
  {
   "cell_type": "markdown",
   "metadata": {
    "slideshow": {
     "slide_type": "skip"
    }
   },
   "source": [
    "#### Before the talk starts [5 mins]\n",
    "- Setup the stage (2 minutes)\n",
    "    - First year students in an algebra-based intro physics course\n",
    "    - Variety of learning environments, all done online, all students have an internet session\n",
    "    - After the lecture, recording will be posted online for students that couldn't participate\n",
    "- Pre-lecture instructions (3 minutes)\n",
    "    - Click [this link]() to clone repo and start a syzygy session\n",
    "    - In case that doesn't work, [use PDF slides here]()\n",
    "\n",
    "#### Introduction [5 min]\n",
    "- Learning Objectives\n",
    "    - Identify and summarize key features of the capacitor\n",
    "    - Analyze a network of capacitors connected serially and in parallel\n",
    "    - Describe potential applications of the capacitor based on its properties\n",
    "    - Explain how a stud-finder works\n",
    "- Start with the punchline (by the end of the lecture, you will...)\n",
    "- Quick review of circuit elements needed for this lecture\n",
    "\n",
    "#### Features of a Capacitor [10 mins]\n",
    "- What does a capacitor do? (2 mins)\n",
    "- Independent of charge! (2 mins)\n",
    "- Dependent only on the geometry! (5 mins)\n",
    "\n",
    "#### What's happening in between the plates? [5 mins]\n",
    "- Molecular model of what is going on!\n",
    "- Dielectrics\n",
    "\n",
    "#### Applications of a capacitor [5 mins]\n",
    "- Stud finder\n",
    "- Defibrillator\n",
    "- Capacitive touch screen\n",
    "\n",
    "#### Final thoughts [2 mins]\n",
    "- Basic Science: invention of the capacitor\n",
    "\n",
    "\n",
    "### Appendix\n",
    "\n",
    "#### Adding and subtracting Capacitors\n",
    "- Series\n",
    "- Parallel\n",
    "\n",
    "#### Energy of a capacitor\n",
    "- \n",
    "- \n",
    "- "
   ]
  },
  {
   "cell_type": "markdown",
   "metadata": {},
   "source": [
    "### Question ideas:\n",
    "\n",
    "- Will a larger battery increase capacitance ?\n",
    "- Draw the electric fields of a capacitor with its plates in a different orientation\n",
    "- Calculate equivalent capacitance of a circuit\n",
    "- If you wish to store a large amount of energy in a capacitor bank, would you connect capacitors in series or parallel? [Credit](https://courses.lumenlearning.com/physics/chapter/19-6-capacitors-in-series-and-parallel/)\n",
    "\n",
    "### Activity ideas:\n",
    "\n",
    "- Investigate relationship between battery size and charge/capacitance\n",
    "- Investigate relationship between capacitance and plate distance\n",
    "- "
   ]
  }
 ],
 "metadata": {
  "celltoolbar": "Slideshow",
  "kernelspec": {
   "display_name": "Python 3",
   "language": "python",
   "name": "python3"
  },
  "language_info": {
   "codemirror_mode": {
    "name": "ipython",
    "version": 3
   },
   "file_extension": ".py",
   "mimetype": "text/x-python",
   "name": "python",
   "nbconvert_exporter": "python",
   "pygments_lexer": "ipython3",
   "version": "3.7.7"
  }
 },
 "nbformat": 4,
 "nbformat_minor": 2
}
