{
 "cells": [
  {
   "cell_type": "code",
   "execution_count": 1,
   "metadata": {
    "slideshow": {
     "slide_type": "-"
    }
   },
   "outputs": [
    {
     "data": {
      "text/html": [
       "<style>/*.container { width:100% !important; }*/\n",
       "\n",
       "div.prompt {display:none}\n",
       "\n",
       "div.output_subarea {max-width:100%}\n",
       "\n",
       "/* These below are from the altair_talk css */\n",
       "\n",
       "/* ---------- markdown cells\n",
       " */\n",
       "body.rise-enabled div.inner_cell>div.text_cell_render.rendered_html {\n",
       "    font-size: 100%;\n",
       "}\n",
       "\n",
       "\n",
       "/* ---------- code blocks inside markdown\n",
       "   i.e. within ``` lines, or 4-space indented\n",
       " */\n",
       "div.inner_cell>div.text_cell_render.rendered_html>pre {\n",
       "    margin: 0px;\n",
       "}\n",
       "\n",
       "/* ----------- code to remove space above markdown headers\n",
       " */\n",
       "div.inner_cell>div.text_cell_render.rendered_html h1 {\n",
       "    margin-top: 0px;\n",
       "}\n",
       "div.inner_cell>div.text_cell_render.rendered_html h2 {\n",
       "    margin-top: 0px;\n",
       "}\n",
       "div.inner_cell>div.text_cell_render.rendered_html h3 {\n",
       "    margin-top: 0px;\n",
       "}\n",
       "div.inner_cell>div.text_cell_render.rendered_html h4 {\n",
       "    margin-top: 0px;\n",
       "}\n",
       "\n",
       "div.inner_cell>div.text_cell_render.rendered_html>pre>code {\n",
       "    font-size: 70%;\n",
       "}\n",
       "\n",
       "/* ---------- tables (from SO)\n",
       " */\n",
       ".rendered_html table, .rendered_html th, .rendered_html tr, .rendered_html td {\n",
       "     font-size: 120%;\n",
       "}\n",
       "\n",
       "/* ---------- Left part of code cells\n",
       "    from this SO answer: https://stackoverflow.com/a/47263575;\n",
       " /* Narrow the prompts */\n",
       "div.prompt_container {\n",
       "    min-width: 5ex;\n",
       "}\n",
       "/* Hide prompts altogether for non-conda cells */\n",
       ".cell:not(.code_cell) .prompt {\n",
       "    display: none;\n",
       "}\n",
       "/* ---------- Width of cells\n",
       " */\n",
       ".container {\n",
       "    width:95% !important;\n",
       "}\n",
       "\n",
       "</style>"
      ],
      "text/plain": [
       "<IPython.core.display.HTML object>"
      ]
     },
     "execution_count": 1,
     "metadata": {},
     "output_type": "execute_result"
    }
   ],
   "source": [
    "# Additional styling ; should be moved into helpers\n",
    "from IPython.core.display import display, HTML\n",
    "HTML('<style>{}</style>'.format(open('styler.css').read()))\n",
    "\n",
    "## Set themes to style plots that get created\n",
    "#from jupyterthemes import jtplot\n",
    "#jtplot.style(theme='grade3')"
   ]
  },
  {
   "cell_type": "markdown",
   "metadata": {
    "slideshow": {
     "slide_type": "slide"
    }
   },
   "source": [
    "# Welcome!\n",
    "\n",
    "To run a cell, click the cell and hit \"Shift+Enter\" on your keyboard."
   ]
  },
  {
   "cell_type": "code",
   "execution_count": 2,
   "metadata": {
    "slideshow": {
     "slide_type": "fragment"
    }
   },
   "outputs": [],
   "source": [
    "from helpers import *"
   ]
  },
  {
   "cell_type": "markdown",
   "metadata": {
    "slideshow": {
     "slide_type": "slide"
    }
   },
   "source": [
    "## Introduction"
   ]
  },
  {
   "cell_type": "markdown",
   "metadata": {
    "cell_style": "split",
    "slideshow": {
     "slide_type": "subslide"
    }
   },
   "source": [
    "### Reminder\n",
    "\n",
    "- Electric fields $\\vec{E}$ are formed between positive and negative charges\n",
    "- $\\vec{E}$ has magnitude (units of $N/C$ or $V/m$) and a direction\n",
    "- $\\vec{E}$ field lines are drawn from positive to negative charges\n",
    "- The work done on a charge $q$ by the electric field is:\n",
    "\n",
    "$$ W = \\vec{F} d $$\n",
    "\n",
    "- The voltage difference between two plates can be expressed as:\n",
    "\n",
    "$$ V = \\frac{\\vec{F} d}{q} = \\vec{E}d$$.\n"
   ]
  },
  {
   "cell_type": "markdown",
   "metadata": {
    "cell_style": "split",
    "slideshow": {
     "slide_type": "fragment"
    }
   },
   "source": [
    "<center>\n",
    "<img src=\"assets/fig7_2.jpeg\" width=50%>\n",
    "</center>\n",
    "\n",
    "<p style=\"text-align:right; font-size:40%;\"><a href=\"https://openstax.org/books/university-physics-volume-2/pages/8-1-capacitors-and-capacitance#91635\">Source: OpenStax Textbook</a></p>"
   ]
  },
  {
   "cell_type": "markdown",
   "metadata": {
    "slideshow": {
     "slide_type": "subslide"
    }
   },
   "source": [
    "### Learning Objectives\n",
    "\n",
    "- Identify and summarize key functions of the capacitor\n",
    "- Explain the relationship between the capacitance and the plate separation and area\n",
    "- Describe applications of the capacitor based on its properties"
   ]
  },
  {
   "cell_type": "markdown",
   "metadata": {
    "slideshow": {
     "slide_type": "subslide"
    }
   },
   "source": [
    "### Punchline\n",
    "\n",
    "<br>\n",
    "Today you will learn how a stud-finder works - it uses electric fields and a capacitor!"
   ]
  },
  {
   "cell_type": "code",
   "execution_count": 3,
   "metadata": {
    "scrolled": true,
    "slideshow": {
     "slide_type": "fragment"
    }
   },
   "outputs": [
    {
     "data": {
      "text/html": [
       "\n",
       "        <iframe\n",
       "            width=\"100%\"\n",
       "            height=\"600\"\n",
       "            src=\"https://www.youtube.com/embed/rzYkyBsYXA0?start=42\"\n",
       "            frameborder=\"0\"\n",
       "            allowfullscreen\n",
       "        ></iframe>\n",
       "        "
      ],
      "text/plain": [
       "<IPython.lib.display.IFrame at 0x1268e61d0>"
      ]
     },
     "execution_count": 3,
     "metadata": {},
     "output_type": "execute_result"
    }
   ],
   "source": [
    "IFrame(stud_finder,width='100%',height=600)"
   ]
  },
  {
   "cell_type": "markdown",
   "metadata": {
    "slideshow": {
     "slide_type": "slide"
    }
   },
   "source": [
    "## What is a capacitor?"
   ]
  },
  {
   "cell_type": "markdown",
   "metadata": {
    "cell_style": "split",
    "slideshow": {
     "slide_type": "fragment"
    }
   },
   "source": [
    "- A capacitor is a device that - when charged, can hold and store a large amount of energy.\n",
    "\n",
    "- Two energy is stored within an electric field (between two conducting plates). \n",
    "\n",
    "- Capacitance is defined as the ratio of the charge $Q$ on a conductor to the potential difference $V$ between them:\n",
    "\n",
    "$$C \\equiv \\frac{Q}{\\Delta V}$$\n",
    "\n",
    "- On the right, is the **parallel plate capacitor**."
   ]
  },
  {
   "cell_type": "markdown",
   "metadata": {
    "cell_style": "split",
    "slideshow": {
     "slide_type": "fragment"
    }
   },
   "source": [
    "<center>\n",
    "<img src=\"assets/fig8_2.jpeg\" width=30%>\n",
    "</center>\n",
    "\n",
    "<p style=\"text-align:right; font-size:30%;\"><a href=\"https://openstax.org/books/university-physics-volume-2/pages/8-1-capacitors-and-capacitance#91635\">Source: OpenStax Textbook</a></p>"
   ]
  },
  {
   "cell_type": "markdown",
   "metadata": {
    "cell_style": "center",
    "slideshow": {
     "slide_type": "subslide"
    }
   },
   "source": [
    "- The unit of capacitance is a \"Farad\", or F (in honour of Michael Faraday)\n",
    "\n",
    "$$ 1 F = \\frac{1C}{1V} $$"
   ]
  },
  {
   "cell_type": "markdown",
   "metadata": {
    "cell_style": "split",
    "slideshow": {
     "slide_type": "subslide"
    }
   },
   "source": [
    "### Exploring Capacitors\n",
    "\n",
    "We will explore the dependence of three parameters on the capacitance:\n",
    "\n",
    "1. Voltage $V$\n",
    "2. Plate separation $d$\n",
    "3. Plate area $A$\n",
    "\n",
    "We will do the first one together, and we'll split the class in half to do the other two.\n",
    "\n",
    "But first, let's take a guess at the relationships between these parameters.\n",
    "\n",
    "Remember: $$C \\equiv \\frac{Q}{\\Delta V}$$.\n",
    "\n",
    "We will use a simulation app to build and develop our intuition!"
   ]
  },
  {
   "cell_type": "markdown",
   "metadata": {
    "cell_style": "split",
    "slideshow": {
     "slide_type": "fragment"
    }
   },
   "source": [
    "<center>\n",
    "<img src=\"assets/fig8_5_orig.jpeg\" width=50%>\n",
    "</center>\n",
    "\n",
    "<p style=\"text-align:right; font-size:30%;\"><a href=\"https://openstax.org/books/university-physics-volume-2/pages/8-1-capacitors-and-capacitance#91635\">Source: OpenStax Textbook</a></p>"
   ]
  },
  {
   "cell_type": "code",
   "execution_count": 4,
   "metadata": {
    "slideshow": {
     "slide_type": "slide"
    }
   },
   "outputs": [
    {
     "data": {
      "text/markdown": [
       "## Capacitor Simulation Demo"
      ],
      "text/plain": [
       "<IPython.core.display.Markdown object>"
      ]
     },
     "metadata": {},
     "output_type": "display_data"
    },
    {
     "data": {
      "text/html": [
       "\n",
       "        <iframe\n",
       "            width=\"100%\"\n",
       "            height=\"600\"\n",
       "            src=\"https://phet.colorado.edu/sims/html/capacitor-lab-basics/latest/capacitor-lab-basics_en.html\"\n",
       "            frameborder=\"0\"\n",
       "            allowfullscreen\n",
       "        ></iframe>\n",
       "        "
      ],
      "text/plain": [
       "<IPython.lib.display.IFrame at 0x105010710>"
      ]
     },
     "execution_count": 4,
     "metadata": {},
     "output_type": "execute_result"
    }
   ],
   "source": [
    "display(Markdown(\"## Capacitor Simulation Demo\"))\n",
    "IFrame(capacitor_phet, width='100%',height=600)"
   ]
  },
  {
   "cell_type": "markdown",
   "metadata": {
    "cell_style": "split",
    "slideshow": {
     "slide_type": "subslide"
    }
   },
   "source": [
    "### Activity 1: Does the battery affect the Capacitance?\n",
    "\n",
    "<br><br>\n",
    "What do you think happens to the Capacitance if:\n",
    "\n",
    "1. the battery voltage is increased ?\n",
    "\n",
    "2. the battery voltage is maximum?\n",
    "\n",
    "3. the battery voltage is 0 ?\n",
    "\n",
    "4. the battery voltage is negative?"
   ]
  },
  {
   "cell_type": "code",
   "execution_count": 5,
   "metadata": {
    "cell_style": "split",
    "slideshow": {
     "slide_type": "fragment"
    }
   },
   "outputs": [
    {
     "data": {
      "text/html": [
       "\n",
       "        <iframe\n",
       "            width=\"700\"\n",
       "            height=\"500\"\n",
       "            src=\"https://app.sli.do/event/gkmj65xm/embed/polls/43a660b4-f549-4cde-b9b3-91165a66a42a\"\n",
       "            frameborder=\"0\"\n",
       "            allowfullscreen\n",
       "        ></iframe>\n",
       "        "
      ],
      "text/plain": [
       "<IPython.lib.display.IFrame at 0x1268e9f90>"
      ]
     },
     "execution_count": 5,
     "metadata": {},
     "output_type": "execute_result"
    }
   ],
   "source": [
    "IFrame('https://app.sli.do/event/gkmj65xm/embed/polls/43a660b4-f549-4cde-b9b3-91165a66a42a', width=700,height=500)"
   ]
  },
  {
   "cell_type": "code",
   "execution_count": 6,
   "metadata": {
    "cell_style": "split",
    "slideshow": {
     "slide_type": "subslide"
    }
   },
   "outputs": [
    {
     "data": {
      "text/html": [
       "\n",
       "        <iframe\n",
       "            width=\"100%\"\n",
       "            height=\"600\"\n",
       "            src=\"https://phet.colorado.edu/sims/html/capacitor-lab-basics/latest/capacitor-lab-basics_en.html\"\n",
       "            frameborder=\"0\"\n",
       "            allowfullscreen\n",
       "        ></iframe>\n",
       "        "
      ],
      "text/plain": [
       "<IPython.lib.display.IFrame at 0x1268eb8d0>"
      ]
     },
     "execution_count": 6,
     "metadata": {},
     "output_type": "execute_result"
    }
   ],
   "source": [
    "IFrame(capacitor_phet, width='100%',height=600)"
   ]
  },
  {
   "cell_type": "markdown",
   "metadata": {
    "cell_style": "split",
    "slideshow": {
     "slide_type": "fragment"
    }
   },
   "source": [
    "#### Instructions\n",
    "\n",
    "1. Keep all parameters except the **Voltage** constant. \n",
    "2. Step through the voltages from 0.3 to 1.0 in units of 0.1 V and record the top-plate charge.\n",
    "3. Type in the data for V and C into the lists below.\n",
    "4. Observe the relationship between Voltage ($V$) and Charge ($Q$) in the plot."
   ]
  },
  {
   "cell_type": "code",
   "execution_count": 18,
   "metadata": {
    "cell_style": "split",
    "slideshow": {
     "slide_type": "fragment"
    }
   },
   "outputs": [
    {
     "data": {
      "image/png": "[encoded data removed]",
      "text/plain": [
       "<Figure size 432x288 with 1 Axes>"
      ]
     },
     "metadata": {},
     "output_type": "display_data"
    }
   ],
   "source": [
    "voltage =  [0.30, 0.40, 0.50, 0.60, 0.70, 0.80, 0.90, 1.0] # units: V\n",
    "charge =   [0.09, 0.12, 0.15, 0.18, 0.21, 0.24, 0.27, 0.30] # units: pC\n",
    "\n",
    "# Plot here\n",
    "plot_VQ(voltage,charge)"
   ]
  },
  {
   "cell_type": "markdown",
   "metadata": {
    "cell_style": "split",
    "slideshow": {
     "slide_type": "subslide"
    }
   },
   "source": [
    "### Activity 2: Effect of plate separation on capacitance\n",
    "\n",
    "<br><br>\n",
    "What do you think happens to the $\\vec{E}$ field when:\n",
    "\n",
    "1. the plates touch ($d = 0$) ?\n",
    "\n",
    "1. the plates are extremely far apart ($d \\to \\infty$) ?"
   ]
  },
  {
   "cell_type": "code",
   "execution_count": 8,
   "metadata": {
    "cell_style": "split",
    "slideshow": {
     "slide_type": "fragment"
    }
   },
   "outputs": [
    {
     "data": {
      "text/html": [
       "\n",
       "        <iframe\n",
       "            width=\"700\"\n",
       "            height=\"500\"\n",
       "            src=\"https://app.sli.do/event/gkmj65xm/embed/polls/07567c0d-6ab5-4a01-a7e6-ec99cf8c8eaf\"\n",
       "            frameborder=\"0\"\n",
       "            allowfullscreen\n",
       "        ></iframe>\n",
       "        "
      ],
      "text/plain": [
       "<IPython.lib.display.IFrame at 0x126908850>"
      ]
     },
     "execution_count": 8,
     "metadata": {},
     "output_type": "execute_result"
    }
   ],
   "source": [
    "IFrame('https://app.sli.do/event/gkmj65xm/embed/polls/07567c0d-6ab5-4a01-a7e6-ec99cf8c8eaf', width=700,height=500)"
   ]
  },
  {
   "cell_type": "code",
   "execution_count": 9,
   "metadata": {
    "cell_style": "split",
    "slideshow": {
     "slide_type": "fragment"
    }
   },
   "outputs": [
    {
     "data": {
      "text/html": [
       "\n",
       "        <iframe\n",
       "            width=\"100%\"\n",
       "            height=\"600\"\n",
       "            src=\"https://phet.colorado.edu/sims/html/capacitor-lab-basics/latest/capacitor-lab-basics_en.html\"\n",
       "            frameborder=\"0\"\n",
       "            allowfullscreen\n",
       "        ></iframe>\n",
       "        "
      ],
      "text/plain": [
       "<IPython.lib.display.IFrame at 0x126917790>"
      ]
     },
     "execution_count": 9,
     "metadata": {},
     "output_type": "execute_result"
    }
   ],
   "source": [
    "IFrame(capacitor_phet, width='100%',height=600)"
   ]
  },
  {
   "cell_type": "markdown",
   "metadata": {
    "cell_style": "split"
   },
   "source": [
    "#### Instructions\n",
    "\n",
    "1. Keep all parameters except the **plate separation** constant. \n",
    "2. Step through at least 6 separation distances between 2.0 mm to 10mm and record the Capacitance.\n",
    "3. Type in the data for capacitance and separation into the lists below.\n",
    "4. Identify the relationship between $C$ and $d$."
   ]
  },
  {
   "cell_type": "code",
   "execution_count": 19,
   "metadata": {
    "cell_style": "split",
    "slideshow": {
     "slide_type": "fragment"
    }
   },
   "outputs": [],
   "source": [
    "capacitance = [0.18, 0.30, 0.35, 0.44, 0.59, 0.89] # units: pF\n",
    "separation  = [10, 6.0, 5.0, 4.0, 3.0, 2.0] # units: mm\n",
    "\n",
    "# Plot here\n",
    "#plot_dC(capacitance,separation)\n",
    "\n",
    "#Plot 1/d and C\n",
    "#sep2=1/np.array(separation)\n",
    "#plot_dC(capacitance,sep2)"
   ]
  },
  {
   "cell_type": "markdown",
   "metadata": {
    "cell_style": "split",
    "slideshow": {
     "slide_type": "subslide"
    }
   },
   "source": [
    "### Activity 3: Effect of plate area on capacitance\n",
    "\n",
    "<br><br>\n",
    "What do you think happens to the $\\vec{E}$ field when:\n",
    "\n",
    "1. the plates touch ($d = 0$) ?\n",
    "\n",
    "1. the plates are extremely far apart ($d \\to \\infty$) ?"
   ]
  },
  {
   "cell_type": "code",
   "execution_count": 20,
   "metadata": {
    "cell_style": "split",
    "slideshow": {
     "slide_type": "fragment"
    }
   },
   "outputs": [
    {
     "data": {
      "text/html": [
       "\n",
       "        <iframe\n",
       "            width=\"700\"\n",
       "            height=\"500\"\n",
       "            src=\"https://app.sli.do/event/gkmj65xm/embed/polls/6881fa0b-2c6f-4f38-aaae-967d10c8129e\"\n",
       "            frameborder=\"0\"\n",
       "            allowfullscreen\n",
       "        ></iframe>\n",
       "        "
      ],
      "text/plain": [
       "<IPython.lib.display.IFrame at 0x1269485d0>"
      ]
     },
     "execution_count": 20,
     "metadata": {},
     "output_type": "execute_result"
    }
   ],
   "source": [
    "IFrame('https://app.sli.do/event/gkmj65xm/embed/polls/6881fa0b-2c6f-4f38-aaae-967d10c8129e', width=700,height=500)"
   ]
  },
  {
   "cell_type": "code",
   "execution_count": 21,
   "metadata": {
    "cell_style": "split",
    "slideshow": {
     "slide_type": "fragment"
    }
   },
   "outputs": [
    {
     "data": {
      "text/html": [
       "\n",
       "        <iframe\n",
       "            width=\"100%\"\n",
       "            height=\"600\"\n",
       "            src=\"https://phet.colorado.edu/sims/html/capacitor-lab-basics/latest/capacitor-lab-basics_en.html\"\n",
       "            frameborder=\"0\"\n",
       "            allowfullscreen\n",
       "        ></iframe>\n",
       "        "
      ],
      "text/plain": [
       "<IPython.lib.display.IFrame at 0x126948810>"
      ]
     },
     "execution_count": 21,
     "metadata": {},
     "output_type": "execute_result"
    }
   ],
   "source": [
    "IFrame(capacitor_phet, width='100%',height=600)"
   ]
  },
  {
   "cell_type": "markdown",
   "metadata": {
    "cell_style": "split",
    "slideshow": {
     "slide_type": "fragment"
    }
   },
   "source": [
    "#### Instructions\n",
    "\n",
    "1. Keep all parameters except the **plate area** constant. \n",
    "2. Step through at least 4 areas between 100 and 400 mm$^2$ and record the Capacitance.\n",
    "3. Type in the data for capacitance and areas into the lists below.\n",
    "4. Identify the relationship between $C$ and $A$."
   ]
  },
  {
   "cell_type": "code",
   "execution_count": 22,
   "metadata": {
    "cell_style": "split",
    "slideshow": {
     "slide_type": "fragment"
    }
   },
   "outputs": [
    {
     "data": {
      "image/png": "[encoded data removed]",
      "text/plain": [
       "<Figure size 432x288 with 1 Axes>"
      ]
     },
     "metadata": {},
     "output_type": "display_data"
    }
   ],
   "source": [
    "capacitance = [0.15, 0.30, 0.44,  0.59 ] # units: pF\n",
    "area       =  [100,200,300,400 ]# units: mm^2\n",
    "\n",
    "plot_AC(capacitance,area)"
   ]
  },
  {
   "cell_type": "markdown",
   "metadata": {
    "cell_style": "center",
    "slideshow": {
     "slide_type": "subslide"
    }
   },
   "source": [
    "### Recap: activity\n",
    "\n",
    "1. C and Voltage $V$: \n",
    "<br><br><br>\n",
    "2. C and Plate separation $d$: \n",
    "<br><br><br>\n",
    "3. C and Plate area $A$: \n",
    "<br><br><br>"
   ]
  },
  {
   "cell_type": "markdown",
   "metadata": {
    "slideshow": {
     "slide_type": "slide"
    }
   },
   "source": [
    "### Capacitors in practice"
   ]
  },
  {
   "cell_type": "markdown",
   "metadata": {
    "cell_style": "split",
    "slideshow": {
     "slide_type": "fragment"
    }
   },
   "source": [
    "- Capacitors come in many shapes and geometries:\n",
    "<br>\n",
    "<br>\n",
    "<center>\n",
    "<img src=\"assets/fig8_4.jpeg\" width=50%>\n",
    "</center>\n",
    "\n",
    "<p style=\"text-align:right; font-size:30%;\"><a href=\"https://openstax.org/books/university-physics-volume-2/pages/8-1-capacitors-and-capacitance#91635\">Source: OpenStax Textbook and Windell Oskay</a></p>\n"
   ]
  },
  {
   "cell_type": "markdown",
   "metadata": {
    "cell_style": "split",
    "slideshow": {
     "slide_type": "fragment"
    }
   },
   "source": [
    "- Typically an insulating material is placed between conducting sheets (dielectric) to make the capacitor more effective\n",
    "\n",
    "<center>\n",
    "<img src=\"assets/fig8_2b.jpeg\" width=70%>\n",
    "</center>\n",
    "\n",
    "<p style=\"text-align:right; font-size:30%;\"><a href=\"https://openstax.org/books/university-physics-volume-2/pages/8-1-capacitors-and-capacitance#91635\">Source: OpenStax Textbook and Windell Oskay</a></p>"
   ]
  },
  {
   "cell_type": "markdown",
   "metadata": {
    "slideshow": {
     "slide_type": "subslide"
    }
   },
   "source": [
    "### Between the plates"
   ]
  },
  {
   "cell_type": "markdown",
   "metadata": {
    "cell_style": "split",
    "slideshow": {
     "slide_type": "fragment"
    }
   },
   "source": [
    "This is a molecular model of an insulating material that contains polar (one side positive, one side negative) molecules:\n",
    "\n",
    "<img src=\"assets/fig8_20_a.jpeg\" width=35%>\n",
    "\n",
    "Notice that the molecules are currently randomly assorted and distributed.\n",
    "\n",
    "<p style=\"text-align:right; font-size:30%;\"><a href=\"https://openstax.org/books/university-physics-volume-2/pages/8-1-capacitors-and-capacitance#91635\">Source: OpenStax Textbook</a></p>\n"
   ]
  },
  {
   "cell_type": "markdown",
   "metadata": {
    "cell_style": "split",
    "slideshow": {
     "slide_type": "fragment"
    }
   },
   "source": [
    "If an electric field is applied across an insulator (for e.g., when placing this material between the plates of a capacitor), individual molecules become aligned with the electric field.\n",
    "\n",
    "<img src=\"assets/fig8_20_b.jpeg\" width=40%>\n",
    "\n",
    "<p style=\"text-align:right; font-size:30%;\"><a href=\"https://openstax.org/books/university-physics-volume-2/pages/8-1-capacitors-and-capacitance#91635\">Source: OpenStax Textbook</a></p>"
   ]
  },
  {
   "cell_type": "markdown",
   "metadata": {},
   "source": [
    "Thus, the main electric field $E_0$ is \"reduced\" by the electric field in the opposite direction $E_i$ induced by the dielectric material.\n",
    "\n",
    "<img src=\"assets/fig8_20_c.jpeg\" width=20%>\n",
    "\n",
    "Reducing of the electric field results in a DECREASE in voltage ($V = E\\cdot d$), and consequently, an INCREASE in capacitance ($C=Q/V$) since the charge Q on the plates is constant.\n"
   ]
  },
  {
   "cell_type": "markdown",
   "metadata": {
    "slideshow": {
     "slide_type": "slide"
    }
   },
   "source": [
    "## Back to the Studfinder"
   ]
  },
  {
   "cell_type": "markdown",
   "metadata": {
    "cell_style": "split",
    "slideshow": {
     "slide_type": "fragment"
    }
   },
   "source": [
    "Now you have all the physics and intuition you need to work out how a stud finder works (hint: it uses capacitance and dielectrics)!\n",
    "<br><br>\n",
    "There is just one more key piece of insight, but it's \"geometry\"...\n",
    "<br><br><br>"
   ]
  },
  {
   "cell_type": "markdown",
   "metadata": {
    "cell_style": "split",
    "slideshow": {
     "slide_type": "fragment"
    }
   },
   "source": [
    "<center>\n",
    "<img src=\"assets/stud1.png\" width=80%>\n",
    "</center>"
   ]
  },
  {
   "cell_type": "markdown",
   "metadata": {
    "slideshow": {
     "slide_type": "fragment"
    }
   },
   "source": [
    "#### Instructions: In break-out rooms, discuss and see if you can figure out how the stud finder works!"
   ]
  },
  {
   "cell_type": "markdown",
   "metadata": {
    "slideshow": {
     "slide_type": "subslide"
    }
   },
   "source": [
    "#### Watch the magic (geometry)!"
   ]
  },
  {
   "cell_type": "markdown",
   "metadata": {
    "slideshow": {
     "slide_type": "fragment"
    }
   },
   "source": [
    "<center>\n",
    "<img src=\"assets/stud.gif\" width=50%>\n",
    "</center>"
   ]
  },
  {
   "cell_type": "markdown",
   "metadata": {
    "slideshow": {
     "slide_type": "subslide"
    }
   },
   "source": [
    "### Stud Finder\n",
    "<center>\n",
    "<img src=\"assets/stud2.png\" width=90%>\n",
    "</center>"
   ]
  },
  {
   "cell_type": "markdown",
   "metadata": {
    "slideshow": {
     "slide_type": "subslide"
    }
   },
   "source": [
    "### Stud Finder\n",
    "\n",
    "<center>\n",
    "<img src=\"assets/stud3.png\" width=90%>\n",
    "</center>\n"
   ]
  },
  {
   "cell_type": "markdown",
   "metadata": {
    "slideshow": {
     "slide_type": "slide"
    }
   },
   "source": [
    "## Challenge Question"
   ]
  },
  {
   "cell_type": "code",
   "execution_count": 14,
   "metadata": {
    "slideshow": {
     "slide_type": "fragment"
    }
   },
   "outputs": [
    {
     "data": {
      "text/html": [
       "\n",
       "        <iframe\n",
       "            width=\"100%\"\n",
       "            height=\"550\"\n",
       "            src=\"https://phet.colorado.edu/sims/html/capacitor-lab-basics/latest/capacitor-lab-basics_en.html\"\n",
       "            frameborder=\"0\"\n",
       "            allowfullscreen\n",
       "        ></iframe>\n",
       "        "
      ],
      "text/plain": [
       "<IPython.lib.display.IFrame at 0x12692c090>"
      ]
     },
     "execution_count": 14,
     "metadata": {},
     "output_type": "execute_result"
    }
   ],
   "source": [
    "IFrame(capacitor_phet, width='100%',height=550)"
   ]
  },
  {
   "cell_type": "markdown",
   "metadata": {
    "slideshow": {
     "slide_type": "fragment"
    }
   },
   "source": [
    "Let's disconnect the battery, and then observe the voltage $V$ across the parallel plates after we decrease the plate separation $d$ and increase the plate area $A$."
   ]
  },
  {
   "cell_type": "markdown",
   "metadata": {
    "slideshow": {
     "slide_type": "fragment"
    }
   },
   "source": [
    "Question: Can you explain how the voltage across the capacitor can be larger than the initially supplied voltage? Answer in 3-4 sentences."
   ]
  },
  {
   "cell_type": "markdown",
   "metadata": {
    "slideshow": {
     "slide_type": "slide"
    }
   },
   "source": [
    "## Recap Learning Objectives"
   ]
  },
  {
   "cell_type": "markdown",
   "metadata": {
    "slideshow": {
     "slide_type": "fragment"
    }
   },
   "source": [
    "- Identify and summarize key functions of the capacitor\n",
    "    - <span style=\"color:red\">Capacitors store and release energy in a controlled manner</style>\n",
    "    - <span style=\"color:red\">Energy is stored within the electric field"
   ]
  },
  {
   "cell_type": "markdown",
   "metadata": {
    "slideshow": {
     "slide_type": "fragment"
    }
   },
   "source": [
    "- Explain the relationship between the capacitance and the plate separation and area\n",
    "    - <span style=\"color:red\">$C$ is inversely proportional to plate separation $d$</style>\n",
    "    - <span style=\"color:red\">$C$ is proportional to plate area $A$</style>"
   ]
  },
  {
   "cell_type": "markdown",
   "metadata": {
    "slideshow": {
     "slide_type": "fragment"
    }
   },
   "source": [
    "- Describe applications of the capacitor based on its properties\n",
    "    - <span style=\"color:red\">Defribrillator: Controlled storage and release of energy</style>\n",
    "    - <span style=\"color:red\">Stud finder: plates are planar and the stud (different dielectric) changes the capacitance </style>"
   ]
  },
  {
   "cell_type": "markdown",
   "metadata": {
    "slideshow": {
     "slide_type": "slide"
    }
   },
   "source": [
    "## Next class\n",
    "\n",
    "- Quantifying the energy stored in a capacitor\n",
    "- Dielectric constant $\\kappa$ of different materials\n",
    "- Adding capacitors in series and parallel\n"
   ]
  },
  {
   "cell_type": "markdown",
   "metadata": {
    "slideshow": {
     "slide_type": "slide"
    }
   },
   "source": [
    "## Post-lecture Conceptual Questions"
   ]
  },
  {
   "cell_type": "code",
   "execution_count": 15,
   "metadata": {
    "slideshow": {
     "slide_type": "fragment"
    }
   },
   "outputs": [
    {
     "data": {
      "application/vnd.jupyter.widget-view+json": {
       "model_id": "494185e3b1ef41adb6b15367a4ba3533",
       "version_major": 2,
       "version_minor": 0
      },
      "text/plain": [
       "VBox(children=(Output(), RadioButtons(options=(('Yes', 0), ('No', 1)), value=0), Button(description='submit', …"
      ]
     },
     "metadata": {},
     "output_type": "display_data"
    },
    {
     "data": {
      "application/vnd.jupyter.widget-view+json": {
       "model_id": "212ba17f505a4728b860de8cfa5fe1ad",
       "version_major": 2,
       "version_minor": 0
      },
      "text/plain": [
       "VBox(children=(Output(), RadioButtons(options=(('Closer together', 0), ('Further apart', 1)), value=0), Button…"
      ]
     },
     "metadata": {},
     "output_type": "display_data"
    },
    {
     "data": {
      "application/vnd.jupyter.widget-view+json": {
       "model_id": "ba6662012c1946048f8039d35bc04531",
       "version_major": 2,
       "version_minor": 0
      },
      "text/plain": [
       "VBox(children=(Output(), RadioButtons(options=(('True', 0), ('False', 1)), value=0), Button(description='submi…"
      ]
     },
     "metadata": {},
     "output_type": "display_data"
    },
    {
     "data": {
      "application/vnd.jupyter.widget-view+json": {
       "model_id": "6908ea96c290416abe1554a255365578",
       "version_major": 2,
       "version_minor": 0
      },
      "text/plain": [
       "VBox(children=(Output(), RadioButtons(options=(('Additional surface area to store charge', 0), ('E field incre…"
      ]
     },
     "metadata": {},
     "output_type": "display_data"
    },
    {
     "data": {
      "application/vnd.jupyter.widget-view+json": {
       "model_id": "a2fd210f1a364a729b6920811709c422",
       "version_major": 2,
       "version_minor": 0
      },
      "text/plain": [
       "VBox(children=(Output(), RadioButtons(options=(('Capacitance would increase', 0), ('Capacitance would decrease…"
      ]
     },
     "metadata": {},
     "output_type": "display_data"
    }
   ],
   "source": [
    "display(Q1)\n",
    "display(Q2)\n",
    "display(Q3)\n",
    "display(Q4)\n",
    "display(Q5)"
   ]
  },
  {
   "cell_type": "code",
   "execution_count": 16,
   "metadata": {
    "slideshow": {
     "slide_type": "skip"
    }
   },
   "outputs": [],
   "source": [
    "# plt.plot(data[::2],data[1::2],'o--')\n",
    "# plt.xlabel('Separation (mm)',fontsize=26)\n",
    "# plt.ylabel('Capacitance (pF)',fontsize=26)\n",
    "# a = plt.title('Capacitance vs. Separation',fontsize=26)"
   ]
  },
  {
   "cell_type": "markdown",
   "metadata": {
    "slideshow": {
     "slide_type": "skip"
    }
   },
   "source": [
    "## Appendix"
   ]
  },
  {
   "cell_type": "markdown",
   "metadata": {
    "slideshow": {
     "slide_type": "skip"
    }
   },
   "source": [
    "### Deriving the E field within parallel plates using Gauss' Law"
   ]
  },
  {
   "cell_type": "code",
   "execution_count": 17,
   "metadata": {
    "cell_style": "center",
    "slideshow": {
     "slide_type": "skip"
    }
   },
   "outputs": [
    {
     "data": {
      "text/html": [
       "\n",
       "        <iframe\n",
       "            width=\"700\"\n",
       "            height=\"400\"\n",
       "            src=\"https://www.youtube-nocookie.com/embed/gTfEFwVsgKA\"\n",
       "            frameborder=\"0\"\n",
       "            allowfullscreen\n",
       "        ></iframe>\n",
       "        "
      ],
      "text/plain": [
       "<IPython.lib.display.IFrame at 0x12692b190>"
      ]
     },
     "execution_count": 17,
     "metadata": {},
     "output_type": "execute_result"
    }
   ],
   "source": [
    "### Gauss' Law Derivation\n",
    "\n",
    "IFrame('https://www.youtube-nocookie.com/embed/gTfEFwVsgKA', width=700,height=400)"
   ]
  },
  {
   "cell_type": "markdown",
   "metadata": {
    "slideshow": {
     "slide_type": "skip"
    }
   },
   "source": [
    "#### Before the talk starts [5 mins]\n",
    "- Setup the stage (2 minutes)\n",
    "    - First year students in an algebra-based intro physics course\n",
    "    - Variety of learning environments, all done online, all students have an internet session\n",
    "    - After the lecture, recording will be posted online for students that couldn't participate\n",
    "- Pre-lecture instructions (3 minutes)\n",
    "    - Click [this link]() to clone repo and start a syzygy session\n",
    "    - In case that doesn't work, [use PDF slides here]()\n",
    "\n",
    "#### Introduction [5 min]\n",
    "- Learning Objectives\n",
    "    - Identify and summarize key features of the capacitor\n",
    "    - Analyze a network of capacitors connected serially and in parallel\n",
    "    - Describe potential applications of the capacitor based on its properties\n",
    "    - Explain how a stud-finder works\n",
    "- Start with the punchline (by the end of the lecture, you will...)\n",
    "- Quick review of circuit elements needed for this lecture\n",
    "\n",
    "#### Features of a Capacitor [10 mins]\n",
    "- What does a capacitor do? (2 mins)\n",
    "- Independent of charge! (2 mins)\n",
    "- Dependent only on the geometry! (5 mins)\n",
    "\n",
    "#### What's happening in between the plates? [5 mins]\n",
    "- Molecular model of what is going on!\n",
    "- Dielectrics\n",
    "\n",
    "#### Applications of a capacitor [5 mins]\n",
    "- Stud finder\n",
    "- Defibrillator\n",
    "- Capacitive touch screen\n",
    "\n",
    "#### Final thoughts [2 mins]\n",
    "- Basic Science: invention of the capacitor\n",
    "\n",
    "\n",
    "### Appendix\n",
    "\n",
    "#### Adding and subtracting Capacitors\n",
    "- Series\n",
    "- Parallel\n",
    "\n",
    "#### Energy of a capacitor\n",
    "- \n",
    "- \n",
    "- "
   ]
  },
  {
   "cell_type": "markdown",
   "metadata": {
    "slideshow": {
     "slide_type": "skip"
    }
   },
   "source": [
    "### Question ideas:\n",
    "\n",
    "- Will a larger battery increase capacitance ?\n",
    "- Draw the electric fields of a capacitor with its plates in a different orientation\n",
    "- Calculate equivalent capacitance of a circuit\n",
    "- If you wish to store a large amount of energy in a capacitor bank, would you connect capacitors in series or parallel? [Credit](https://courses.lumenlearning.com/physics/chapter/19-6-capacitors-in-series-and-parallel/)\n",
    "\n",
    "### Activity ideas:\n",
    "\n",
    "- Investigate relationship between battery size and charge/capacitance\n",
    "- Investigate relationship between capacitance and plate distance\n",
    "- "
   ]
  }
 ],
 "metadata": {
  "celltoolbar": "Slideshow",
  "kernelspec": {
   "display_name": "Python 3",
   "language": "python",
   "name": "python3"
  },
  "language_info": {
   "codemirror_mode": {
    "name": "ipython",
    "version": 3
   },
   "file_extension": ".py",
   "mimetype": "text/x-python",
   "name": "python",
   "nbconvert_exporter": "python",
   "pygments_lexer": "ipython3",
   "version": "3.7.7"
  }
 },
 "nbformat": 4,
 "nbformat_minor": 2
}
